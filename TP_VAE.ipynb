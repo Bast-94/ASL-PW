{
  "nbformat": 4,
  "nbformat_minor": 0,
  "metadata": {
    "colab": {
      "provenance": [],
      "include_colab_link": true
    },
    "kernelspec": {
      "name": "python3",
      "display_name": "Python 3"
    },
    "language_info": {
      "name": "python"
    }
  },
  "cells": [
    {
      "cell_type": "markdown",
      "metadata": {
        "id": "view-in-github",
        "colab_type": "text"
      },
      "source": [
        "<a href=\"https://colab.research.google.com/github/Bast-94/ASL-PW/blob/main/TP_VAE.ipynb\" target=\"_parent\"><img src=\"https://colab.research.google.com/assets/colab-badge.svg\" alt=\"Open In Colab\"/></a>"
      ]
    },
    {
      "cell_type": "markdown",
      "source": [
        "# TP : Auto-encodeurs variationnels\n",
        "\n",
        "Dans ce TP, dans un premier temps, nous allons entraîner un modèle génératif de type d'auto-encodeur variationnel sur le jeu de données MNIST (chiffres manuscrits de 0 à 9). Dans un deuxième, temps nous allons essayer de générer des chiffres en échantiollannant dans l'espace latent."
      ],
      "metadata": {
        "id": "VWK7Q9YVip8B"
      }
    },
    {
      "cell_type": "code",
      "execution_count": 83,
      "metadata": {
        "id": "Gp0TzKOuinnz",
        "colab": {
          "base_uri": "https://localhost:8080/"
        },
        "outputId": "63f91b33-8a4d-4548-8bbe-400fb2bbe450"
      },
      "outputs": [
        {
          "output_type": "stream",
          "name": "stdout",
          "text": [
            "Epoch 0, Loss: 169.64794638671876\n",
            "Epoch 1, Loss: 126.69600846354167\n",
            "Epoch 2, Loss: 117.23597223307291\n",
            "Epoch 3, Loss: 113.04743995768229\n",
            "Epoch 4, Loss: 110.7874154296875\n",
            "Epoch 5, Loss: 109.21589488932291\n",
            "Epoch 6, Loss: 108.12948712565104\n",
            "Epoch 7, Loss: 107.44494767252604\n",
            "Epoch 8, Loss: 106.77770159505208\n",
            "Epoch 9, Loss: 106.29638255208333\n"
          ]
        }
      ],
      "source": [
        "import torch\n",
        "from torch import nn\n",
        "from torchvision import datasets, transforms\n",
        "from torch.utils.data import DataLoader\n",
        "\n",
        "# Définir l'architecture du VAE\n",
        "class VAE(nn.Module):\n",
        "    def __init__(self, latent_dim: int = 50):\n",
        "        super(VAE, self).__init__()\n",
        "\n",
        "        # Encodeur\n",
        "        self.fc1 = nn.Linear(784, 400)\n",
        "        self.latent_dim = latent_dim\n",
        "        self.fc21 = nn.Linear(400, self.latent_dim)  # Moyenne mu\n",
        "        self.fc22 = nn.Linear(400, self.latent_dim)  # Log-variance\n",
        "\n",
        "        # Décodeur\n",
        "        self.fc3 = nn.Linear(self.latent_dim, 400)\n",
        "        self.fc4 = nn.Linear(400, 784)\n",
        "\n",
        "    def encode(self, x):\n",
        "        h1 = torch.relu(self.fc1(x))\n",
        "        return self.fc21(h1), self.fc22(h1)\n",
        "\n",
        "    def reparameterize(self, mu, logvar):\n",
        "        std = torch.exp(0.5*logvar)\n",
        "        eps = torch.randn_like(std)\n",
        "        return mu + eps*std\n",
        "\n",
        "    def decode(self, z):\n",
        "        h3 = torch.relu(self.fc3(z))\n",
        "        return torch.sigmoid(self.fc4(h3))\n",
        "\n",
        "    def forward(self, x):\n",
        "        mu, logvar = self.encode(x.view(-1, 784))\n",
        "        z = self.reparameterize(mu, logvar)\n",
        "        return self.decode(z), mu, logvar\n",
        "\n",
        "# Fonction de perte\n",
        "def loss_function(recon_x, x, mu, logvar):\n",
        "    BCE = nn.functional.binary_cross_entropy(recon_x, x.view(-1, 784), reduction='sum')\n",
        "    KLD = -0.5 * torch.sum(1 + logvar - mu.pow(2) - logvar.exp())\n",
        "    return BCE + KLD\n",
        "\n",
        "# Paramètres\n",
        "device = torch.device(\"cuda\" if torch.cuda.is_available() else \"cpu\")\n",
        "vae = VAE().to(device)\n",
        "optimizer = torch.optim.Adam(vae.parameters(), lr=1e-3)\n",
        "\n",
        "# Chargement des données MNIST\n",
        "train_loader = DataLoader(\n",
        "    datasets.MNIST('../data', train=True, download=True,\n",
        "                   transform=transforms.ToTensor()),\n",
        "    batch_size=128, shuffle=True)\n",
        "\n",
        "# Entraînement du modèle\n",
        "def train_vae(vae: VAE,optimizer, loss, train_loader):\n",
        "  for epoch in range(10):\n",
        "      vae.train()\n",
        "      train_loss = 0\n",
        "      for data, _ in train_loader:\n",
        "          data = data.to(device)\n",
        "          optimizer.zero_grad()\n",
        "          recon_batch, mu, logvar = vae(data)\n",
        "          loss = loss_function(recon_batch, data, mu, logvar)\n",
        "          loss.backward()\n",
        "          train_loss += loss.item()\n",
        "          optimizer.step()\n",
        "\n",
        "      print(f'Epoch {epoch}, Loss: {train_loss / len(train_loader.dataset)}')"
      ]
    },
    {
      "cell_type": "code",
      "source": [
        "vae(next(iter(train_loader))[0])[0].size()"
      ],
      "metadata": {
        "colab": {
          "base_uri": "https://localhost:8080/"
        },
        "id": "eG3PQhwBp-Zw",
        "outputId": "5fa4562d-07b1-4fbd-b887-e34952554b4c"
      },
      "execution_count": 27,
      "outputs": [
        {
          "output_type": "execute_result",
          "data": {
            "text/plain": [
              "torch.Size([128, 784])"
            ]
          },
          "metadata": {},
          "execution_count": 27
        }
      ]
    },
    {
      "cell_type": "markdown",
      "source": [
        "## Exercices\n",
        "\n",
        "* Rédiger un code Python qui permet d'échantiollonner à partir de l'espace latent pour générer de nouvelles images.\n",
        "* Changer la dimension de l'espace latent.\n",
        "* Changer l'architecture du VAE.\n",
        "* Paramétrer la fonction loss pour pondérer les deux termes (reconstruction et régularisation).\n",
        "* Optionnel : entraîner le modèle sur un autre dataset."
      ],
      "metadata": {
        "id": "_A32BFeElUJ0"
      }
    },
    {
      "cell_type": "markdown",
      "source": [
        "### Rédiger un code Python qui permet d'échantiollonner à partir de l'espace latent pour générer de nouvelles images."
      ],
      "metadata": {
        "id": "aWoinH8ykLma"
      }
    },
    {
      "cell_type": "code",
      "source": [
        "vae"
      ],
      "metadata": {
        "colab": {
          "base_uri": "https://localhost:8080/"
        },
        "id": "bfcc7L_bsSJO",
        "outputId": "4717dec3-630e-4d33-8070-1d1e06897d9e"
      },
      "execution_count": 28,
      "outputs": [
        {
          "output_type": "execute_result",
          "data": {
            "text/plain": [
              "VAE(\n",
              "  (fc1): Linear(in_features=784, out_features=400, bias=True)\n",
              "  (fc21): Linear(in_features=400, out_features=50, bias=True)\n",
              "  (fc22): Linear(in_features=400, out_features=50, bias=True)\n",
              "  (fc3): Linear(in_features=50, out_features=400, bias=True)\n",
              "  (fc4): Linear(in_features=400, out_features=784, bias=True)\n",
              ")"
            ]
          },
          "metadata": {},
          "execution_count": 28
        }
      ]
    },
    {
      "cell_type": "code",
      "source": [
        "def sample_from_latent_space(vae: VAE):\n",
        "  noised = torch.randn(1,400)\n",
        "  mu, logvar = vae.fc21(noised), vae.fc22(noised)\n",
        "  z = torch.randn(50)\n",
        "  return vae.decode(z).view(28,28)"
      ],
      "metadata": {
        "id": "dDaBtLlimQME"
      },
      "execution_count": 77,
      "outputs": []
    },
    {
      "cell_type": "code",
      "source": [
        "import torchvision.transforms as T\n",
        "from PIL import Image\n",
        "import matplotlib.pyplot as plt\n",
        "\n",
        "transform = T.ToPILImage()\n",
        "col,row = 5,5\n",
        "full_size = col*row\n",
        "fig = plt.figure(figsize=(8,8))\n",
        "fig.suptitle(\"Generated MNIST\")\n",
        "for i in range(full_size):\n",
        "  ax = fig.add_subplot(row,col,i+1)\n",
        "  tensor_img = sample_from_latent_space(vae)\n",
        "  img = transform(tensor_img)\n",
        "  ax.set_axis_off()\n",
        "  ax.imshow(img,cmap='gray')\n",
        "\n",
        "fig.savefig('generated_img.png')\n"
      ],
      "metadata": {
        "colab": {
          "base_uri": "https://localhost:8080/",
          "height": 732
        },
        "id": "UkOoEVOTtXpE",
        "outputId": "976d0476-0a8a-4555-c76f-daaafc9d4775"
      },
      "execution_count": 85,
      "outputs": [
        {
          "output_type": "display_data",
          "data": {
            "text/plain": [
              "<Figure size 800x800 with 25 Axes>"
            ],
            "image/png": "[encoded data removed]"
          },
          "metadata": {}
        }
      ]
    },
    {
      "cell_type": "markdown",
      "source": [
        "### Changer la dimension de l'espace latent."
      ],
      "metadata": {
        "id": "6vgPROsjkTJU"
      }
    },
    {
      "cell_type": "code",
      "source": [
        "alternate_vae = VAE"
      ],
      "metadata": {
        "id": "gJpjWmZikJgQ"
      },
      "execution_count": null,
      "outputs": []
    }
  ]
}