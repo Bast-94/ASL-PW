{
  "nbformat": 4,
  "nbformat_minor": 0,
  "metadata": {
    "colab": {
      "provenance": [],
      "collapsed_sections": [
        "aWoinH8ykLma"
      ],
      "include_colab_link": true
    },
    "kernelspec": {
      "name": "python3",
      "display_name": "Python 3"
    },
    "language_info": {
      "name": "python"
    }
  },
  "cells": [
    {
      "cell_type": "markdown",
      "metadata": {
        "id": "view-in-github",
        "colab_type": "text"
      },
      "source": [
        "<a href=\"https://colab.research.google.com/github/Bast-94/ASL-PW/blob/main/TP_VAE.ipynb\" target=\"_parent\"><img src=\"https://colab.research.google.com/assets/colab-badge.svg\" alt=\"Open In Colab\"/></a>"
      ]
    },
    {
      "cell_type": "markdown",
      "source": [
        "# TP : Auto-encodeurs variationnels\n",
        "\n",
        "Dans ce TP, dans un premier temps, nous allons entraîner un modèle génératif de type d'auto-encodeur variationnel sur le jeu de données MNIST (chiffres manuscrits de 0 à 9). Dans un deuxième, temps nous allons essayer de générer des chiffres en échantiollannant dans l'espace latent."
      ],
      "metadata": {
        "id": "VWK7Q9YVip8B"
      }
    },
    {
      "cell_type": "code",
      "execution_count": 49,
      "metadata": {
        "id": "Gp0TzKOuinnz"
      },
      "outputs": [],
      "source": [
        "import torch\n",
        "from torch import nn\n",
        "from torchvision import datasets, transforms\n",
        "from torch.utils.data import DataLoader\n",
        "from tqdm import tqdm\n",
        "# Définir l'architecture du VAE\n",
        "class VAE(nn.Module):\n",
        "    def __init__(self, latent_dim: int = 50,hidden_dim:int =400):\n",
        "        super(VAE, self).__init__()\n",
        "\n",
        "        # Encodeur\n",
        "        self.fc1 = nn.Linear(784, hidden_dim)\n",
        "        self.latent_dim = latent_dim\n",
        "        self.fc21 = nn.Linear(hidden_dim, self.latent_dim)  # Moyenne mu\n",
        "        self.fc22 = nn.Linear(hidden_dim, self.latent_dim)  # Log-variance\n",
        "\n",
        "        # Décodeur\n",
        "        self.fc3 = nn.Linear(self.latent_dim, hidden_dim)\n",
        "        self.fc4 = nn.Linear(hidden_dim, 784)\n",
        "\n",
        "    def encode(self, x):\n",
        "        h1 = torch.relu(self.fc1(x))\n",
        "        return self.fc21(h1), self.fc22(h1)\n",
        "\n",
        "    def reparameterize(self, mu, logvar):\n",
        "        std = torch.exp(0.5*logvar)\n",
        "        eps = torch.randn_like(std)\n",
        "        return mu + eps*std\n",
        "\n",
        "    def decode(self, z):\n",
        "        h3 = torch.relu(self.fc3(z))\n",
        "        return torch.sigmoid(self.fc4(h3))\n",
        "\n",
        "    def forward(self, x):\n",
        "        mu, logvar = self.encode(x.view(-1, 784))\n",
        "        z = self.reparameterize(mu, logvar)\n",
        "        return self.decode(z), mu, logvar\n",
        "\n",
        "# Fonction de perte\n",
        "def loss_function(recon_x, x, mu, logvar):\n",
        "    BCE = nn.functional.binary_cross_entropy(recon_x, x.view(-1, 784), reduction='sum')\n",
        "    KLD = -0.5 * torch.sum(1 + logvar - mu.pow(2) - logvar.exp())\n",
        "    return BCE + KLD\n",
        "\n",
        "# Paramètres\n",
        "device = torch.device(\"cuda\" if torch.cuda.is_available() else \"cpu\")\n",
        "vae = VAE().to(device)\n",
        "optimizer = torch.optim.Adam(vae.parameters(), lr=1e-3)\n",
        "\n",
        "# Chargement des données MNIST\n",
        "train_loader = DataLoader(\n",
        "    datasets.MNIST('../data', train=True, download=True,\n",
        "                   transform=transforms.ToTensor()),\n",
        "    batch_size=128, shuffle=True)\n",
        "\n",
        "# Entraînement du modèle\n",
        "def train_vae(vae: VAE,optimizer, train_loader,n_epochs=10,loss_function =loss_function):\n",
        "\n",
        "  for epoch in tqdm(range(n_epochs)):\n",
        "      vae.train()\n",
        "      train_loss = 0\n",
        "      for data, _ in train_loader:\n",
        "          data = data.to(device)\n",
        "          optimizer.zero_grad()\n",
        "          recon_batch, mu, logvar = vae(data)\n",
        "          loss = loss_function(recon_batch, data, mu, logvar)\n",
        "          loss.backward()\n",
        "          train_loss += loss.item()\n",
        "          optimizer.step()\n",
        "\n",
        "      print(f'Epoch {epoch}, Loss: {train_loss / len(train_loader.dataset)}')"
      ]
    },
    {
      "cell_type": "code",
      "source": [
        "vae(next(iter(train_loader))[0])[0].size()"
      ],
      "metadata": {
        "colab": {
          "base_uri": "https://localhost:8080/"
        },
        "id": "eG3PQhwBp-Zw",
        "outputId": "75c21b93-7f75-4089-f226-96b0f4b2258e"
      },
      "execution_count": 2,
      "outputs": [
        {
          "output_type": "execute_result",
          "data": {
            "text/plain": [
              "torch.Size([128, 784])"
            ]
          },
          "metadata": {},
          "execution_count": 2
        }
      ]
    },
    {
      "cell_type": "markdown",
      "source": [
        "## Exercices\n",
        "\n",
        "* Rédiger un code Python qui permet d'échantiollonner à partir de l'espace latent pour générer de nouvelles images.\n",
        "* Changer la dimension de l'espace latent.\n",
        "* Changer l'architecture du VAE.\n",
        "* Paramétrer la fonction loss pour pondérer les deux termes (reconstruction et régularisation).\n",
        "* Optionnel : entraîner le modèle sur un autre dataset."
      ],
      "metadata": {
        "id": "_A32BFeElUJ0"
      }
    },
    {
      "cell_type": "markdown",
      "source": [
        "### Rédiger un code Python qui permet d'échantiollonner à partir de l'espace latent pour générer de nouvelles images."
      ],
      "metadata": {
        "id": "aWoinH8ykLma"
      }
    },
    {
      "cell_type": "code",
      "source": [
        "device = torch.device(\"cuda\" if torch.cuda.is_available() else \"cpu\")\n",
        "vae = VAE().to(device)\n",
        "optimizer = torch.optim.Adam(vae.parameters(), lr=1e-3)\n",
        "train_vae(vae,optimizer,train_loader=train_loader)"
      ],
      "metadata": {
        "colab": {
          "base_uri": "https://localhost:8080/"
        },
        "id": "bfcc7L_bsSJO",
        "outputId": "a37b89ec-5795-4f7b-ba10-dc91569d5964"
      },
      "execution_count": 38,
      "outputs": [
        {
          "output_type": "stream",
          "name": "stderr",
          "text": [
            " 10%|█         | 1/10 [00:17<02:35, 17.29s/it]"
          ]
        },
        {
          "output_type": "stream",
          "name": "stdout",
          "text": [
            "Epoch 0, Loss: 169.2148652669271\n"
          ]
        },
        {
          "output_type": "stream",
          "name": "stderr",
          "text": [
            "\r 20%|██        | 2/10 [00:34<02:15, 16.97s/it]"
          ]
        },
        {
          "output_type": "stream",
          "name": "stdout",
          "text": [
            "Epoch 1, Loss: 125.97935678710938\n"
          ]
        },
        {
          "output_type": "stream",
          "name": "stderr",
          "text": [
            "\r 30%|███       | 3/10 [00:50<01:58, 16.97s/it]"
          ]
        },
        {
          "output_type": "stream",
          "name": "stdout",
          "text": [
            "Epoch 2, Loss: 116.92253427734374\n"
          ]
        },
        {
          "output_type": "stream",
          "name": "stderr",
          "text": [
            "\r 40%|████      | 4/10 [01:08<01:42, 17.02s/it]"
          ]
        },
        {
          "output_type": "stream",
          "name": "stdout",
          "text": [
            "Epoch 3, Loss: 112.86197369791667\n"
          ]
        },
        {
          "output_type": "stream",
          "name": "stderr",
          "text": [
            "\r 50%|█████     | 5/10 [01:25<01:26, 17.27s/it]"
          ]
        },
        {
          "output_type": "stream",
          "name": "stdout",
          "text": [
            "Epoch 4, Loss: 110.43561331380208\n"
          ]
        },
        {
          "output_type": "stream",
          "name": "stderr",
          "text": [
            "\r 60%|██████    | 6/10 [01:43<01:09, 17.31s/it]"
          ]
        },
        {
          "output_type": "stream",
          "name": "stdout",
          "text": [
            "Epoch 5, Loss: 108.93940921223958\n"
          ]
        },
        {
          "output_type": "stream",
          "name": "stderr",
          "text": [
            "\r 70%|███████   | 7/10 [02:00<00:51, 17.22s/it]"
          ]
        },
        {
          "output_type": "stream",
          "name": "stdout",
          "text": [
            "Epoch 6, Loss: 107.82909293619791\n"
          ]
        },
        {
          "output_type": "stream",
          "name": "stderr",
          "text": [
            "\r 80%|████████  | 8/10 [02:17<00:34, 17.14s/it]"
          ]
        },
        {
          "output_type": "stream",
          "name": "stdout",
          "text": [
            "Epoch 7, Loss: 107.18618525390625\n"
          ]
        },
        {
          "output_type": "stream",
          "name": "stderr",
          "text": [
            "\r 90%|█████████ | 9/10 [02:35<00:17, 17.42s/it]"
          ]
        },
        {
          "output_type": "stream",
          "name": "stdout",
          "text": [
            "Epoch 8, Loss: 106.51663701171876\n"
          ]
        },
        {
          "output_type": "stream",
          "name": "stderr",
          "text": [
            "100%|██████████| 10/10 [02:52<00:00, 17.27s/it]"
          ]
        },
        {
          "output_type": "stream",
          "name": "stdout",
          "text": [
            "Epoch 9, Loss: 106.10033058268229\n"
          ]
        },
        {
          "output_type": "stream",
          "name": "stderr",
          "text": [
            "\n"
          ]
        }
      ]
    },
    {
      "cell_type": "code",
      "source": [
        "def sample_from_latent_space(vae: VAE, z=None):\n",
        "  if(z is None):\n",
        "    z = torch.randn(vae.latent_dim)\n",
        "  return vae.decode(z).view(28,28)"
      ],
      "metadata": {
        "id": "dDaBtLlimQME"
      },
      "execution_count": 48,
      "outputs": []
    },
    {
      "cell_type": "code",
      "source": [
        "import torchvision.transforms as T\n",
        "from PIL import Image\n",
        "import matplotlib.pyplot as plt\n",
        "\n",
        "def generate_mnist(vae:VAE, file_name:str='generated_img.png'):\n",
        "  transform = T.ToPILImage()\n",
        "  col,row = 5,5\n",
        "  full_size = col*row\n",
        "  fig = plt.figure(figsize=(8,8))\n",
        "  fig.suptitle(f\"Generated MNIST with latent dim = {vae.latent_dim}\")\n",
        "  for i in range(full_size):\n",
        "    ax = fig.add_subplot(row,col,i+1)\n",
        "    tensor_img = sample_from_latent_space(vae)\n",
        "    img = transform(tensor_img)\n",
        "    ax.set_axis_off()\n",
        "    ax.imshow(img,cmap='gray')\n",
        "  fig.savefig(file_name)\n",
        "  plt.show()\n",
        "\n",
        "generate_mnist(vae)\n"
      ],
      "metadata": {
        "colab": {
          "base_uri": "https://localhost:8080/",
          "height": 732
        },
        "id": "UkOoEVOTtXpE",
        "outputId": "d1ef34e1-7043-4d2f-9e81-a4eac9533d4f"
      },
      "execution_count": 44,
      "outputs": [
        {
          "output_type": "display_data",
          "data": {
            "text/plain": [
              "<Figure size 800x800 with 25 Axes>"
            ],
            "image/png": "[encoded data removed]"
          },
          "metadata": {}
        }
      ]
    },
    {
      "cell_type": "markdown",
      "source": [
        "Nous pouvons remarquer que le modèle peut générer des images de chiffres qui sont reconnaissables comme les 7 et les 9. Cependant ceci ne représente qu'une minorité sur les images générées. Certaines ont des formes incohérentes d'autres sont partiellement dessinées."
      ],
      "metadata": {
        "id": "fnCk7h35KTuO"
      }
    },
    {
      "cell_type": "markdown",
      "source": [
        "### Changer la dimension de l'espace latent."
      ],
      "metadata": {
        "id": "6vgPROsjkTJU"
      }
    },
    {
      "cell_type": "markdown",
      "source": [
        "Dans notre premier cas la dimension latente était de 50, nous allons la diminuer à  10 d'une part et augmenter à 100 d'autre part et observer la qualité des résultats générés mais aussi les loss respectives."
      ],
      "metadata": {
        "id": "WDoGZvRkCE3H"
      }
    },
    {
      "cell_type": "code",
      "source": [
        "vae_10 = VAE(latent_dim=10)\n",
        "vae_100 =  VAE(latent_dim=100)\n",
        "\n",
        "for network in [vae_10,vae_100]:\n",
        "  optimizer = torch.optim.Adam(network.parameters(), lr=1e-3)\n",
        "  train_vae(network,optimizer=optimizer,train_loader=train_loader,n_epochs=15)"
      ],
      "metadata": {
        "id": "gJpjWmZikJgQ",
        "colab": {
          "base_uri": "https://localhost:8080/"
        },
        "outputId": "f130ccea-7062-4b42-8aa2-4fa50fb87824"
      },
      "execution_count": 32,
      "outputs": [
        {
          "output_type": "stream",
          "name": "stderr",
          "text": [
            "  7%|▋         | 1/15 [00:15<03:41, 15.81s/it]"
          ]
        },
        {
          "output_type": "stream",
          "name": "stdout",
          "text": [
            "Epoch 0, Loss: 163.99024462890625\n"
          ]
        },
        {
          "output_type": "stream",
          "name": "stderr",
          "text": [
            "\r 13%|█▎        | 2/15 [00:32<03:34, 16.52s/it]"
          ]
        },
        {
          "output_type": "stream",
          "name": "stdout",
          "text": [
            "Epoch 1, Loss: 124.90319412434896\n"
          ]
        },
        {
          "output_type": "stream",
          "name": "stderr",
          "text": [
            "\r 20%|██        | 3/15 [00:49<03:20, 16.73s/it]"
          ]
        },
        {
          "output_type": "stream",
          "name": "stdout",
          "text": [
            "Epoch 2, Loss: 119.4949020670573\n"
          ]
        },
        {
          "output_type": "stream",
          "name": "stderr",
          "text": [
            "\r 27%|██▋       | 4/15 [01:06<03:03, 16.70s/it]"
          ]
        },
        {
          "output_type": "stream",
          "name": "stdout",
          "text": [
            "Epoch 3, Loss: 116.85736967773437\n"
          ]
        },
        {
          "output_type": "stream",
          "name": "stderr",
          "text": [
            "\r 33%|███▎      | 5/15 [01:22<02:46, 16.62s/it]"
          ]
        },
        {
          "output_type": "stream",
          "name": "stdout",
          "text": [
            "Epoch 4, Loss: 115.08961098632813\n"
          ]
        },
        {
          "output_type": "stream",
          "name": "stderr",
          "text": [
            "\r 40%|████      | 6/15 [01:39<02:30, 16.72s/it]"
          ]
        },
        {
          "output_type": "stream",
          "name": "stdout",
          "text": [
            "Epoch 5, Loss: 113.88700577799479\n"
          ]
        },
        {
          "output_type": "stream",
          "name": "stderr",
          "text": [
            "\r 47%|████▋     | 7/15 [01:57<02:16, 17.00s/it]"
          ]
        },
        {
          "output_type": "stream",
          "name": "stdout",
          "text": [
            "Epoch 6, Loss: 113.02248772786459\n"
          ]
        },
        {
          "output_type": "stream",
          "name": "stderr",
          "text": [
            "\r 53%|█████▎    | 8/15 [02:14<01:58, 16.90s/it]"
          ]
        },
        {
          "output_type": "stream",
          "name": "stdout",
          "text": [
            "Epoch 7, Loss: 112.25697335611979\n"
          ]
        },
        {
          "output_type": "stream",
          "name": "stderr",
          "text": [
            "\r 60%|██████    | 9/15 [02:30<01:40, 16.78s/it]"
          ]
        },
        {
          "output_type": "stream",
          "name": "stdout",
          "text": [
            "Epoch 8, Loss: 111.63032991536458\n"
          ]
        },
        {
          "output_type": "stream",
          "name": "stderr",
          "text": [
            "\r 67%|██████▋   | 10/15 [02:47<01:23, 16.69s/it]"
          ]
        },
        {
          "output_type": "stream",
          "name": "stdout",
          "text": [
            "Epoch 9, Loss: 111.08880971679687\n"
          ]
        },
        {
          "output_type": "stream",
          "name": "stderr",
          "text": [
            "\r 73%|███████▎  | 11/15 [03:04<01:07, 16.85s/it]"
          ]
        },
        {
          "output_type": "stream",
          "name": "stdout",
          "text": [
            "Epoch 10, Loss: 110.59393374023438\n"
          ]
        },
        {
          "output_type": "stream",
          "name": "stderr",
          "text": [
            "\r 80%|████████  | 12/15 [03:21<00:50, 16.90s/it]"
          ]
        },
        {
          "output_type": "stream",
          "name": "stdout",
          "text": [
            "Epoch 11, Loss: 110.18068780924479\n"
          ]
        },
        {
          "output_type": "stream",
          "name": "stderr",
          "text": [
            "\r 87%|████████▋ | 13/15 [03:37<00:33, 16.79s/it]"
          ]
        },
        {
          "output_type": "stream",
          "name": "stdout",
          "text": [
            "Epoch 12, Loss: 109.78876954752604\n"
          ]
        },
        {
          "output_type": "stream",
          "name": "stderr",
          "text": [
            "\r 93%|█████████▎| 14/15 [03:54<00:16, 16.68s/it]"
          ]
        },
        {
          "output_type": "stream",
          "name": "stdout",
          "text": [
            "Epoch 13, Loss: 109.40930240885416\n"
          ]
        },
        {
          "output_type": "stream",
          "name": "stderr",
          "text": [
            "100%|██████████| 15/15 [04:10<00:00, 16.73s/it]\n"
          ]
        },
        {
          "output_type": "stream",
          "name": "stdout",
          "text": [
            "Epoch 14, Loss: 109.1219458984375\n"
          ]
        },
        {
          "output_type": "stream",
          "name": "stderr",
          "text": [
            "  7%|▋         | 1/15 [00:17<04:10, 17.89s/it]"
          ]
        },
        {
          "output_type": "stream",
          "name": "stdout",
          "text": [
            "Epoch 0, Loss: 174.1514749674479\n"
          ]
        },
        {
          "output_type": "stream",
          "name": "stderr",
          "text": [
            "\r 13%|█▎        | 2/15 [00:35<03:47, 17.52s/it]"
          ]
        },
        {
          "output_type": "stream",
          "name": "stdout",
          "text": [
            "Epoch 1, Loss: 132.52838997395833\n"
          ]
        },
        {
          "output_type": "stream",
          "name": "stderr",
          "text": [
            "\r 20%|██        | 3/15 [00:52<03:30, 17.58s/it]"
          ]
        },
        {
          "output_type": "stream",
          "name": "stdout",
          "text": [
            "Epoch 2, Loss: 120.72132535807292\n"
          ]
        },
        {
          "output_type": "stream",
          "name": "stderr",
          "text": [
            "\r 27%|██▋       | 4/15 [01:10<03:15, 17.82s/it]"
          ]
        },
        {
          "output_type": "stream",
          "name": "stdout",
          "text": [
            "Epoch 3, Loss: 114.88761713867187\n"
          ]
        },
        {
          "output_type": "stream",
          "name": "stderr",
          "text": [
            "\r 33%|███▎      | 5/15 [01:29<03:01, 18.10s/it]"
          ]
        },
        {
          "output_type": "stream",
          "name": "stdout",
          "text": [
            "Epoch 4, Loss: 111.81515701497396\n"
          ]
        },
        {
          "output_type": "stream",
          "name": "stderr",
          "text": [
            "\r 40%|████      | 6/15 [01:47<02:42, 18.02s/it]"
          ]
        },
        {
          "output_type": "stream",
          "name": "stdout",
          "text": [
            "Epoch 5, Loss: 110.02289643554687\n"
          ]
        },
        {
          "output_type": "stream",
          "name": "stderr",
          "text": [
            "\r 47%|████▋     | 7/15 [02:05<02:24, 18.01s/it]"
          ]
        },
        {
          "output_type": "stream",
          "name": "stdout",
          "text": [
            "Epoch 6, Loss: 108.81921840820313\n"
          ]
        },
        {
          "output_type": "stream",
          "name": "stderr",
          "text": [
            "\r 53%|█████▎    | 8/15 [02:24<02:07, 18.26s/it]"
          ]
        },
        {
          "output_type": "stream",
          "name": "stdout",
          "text": [
            "Epoch 7, Loss: 107.922966796875\n"
          ]
        },
        {
          "output_type": "stream",
          "name": "stderr",
          "text": [
            "\r 60%|██████    | 9/15 [02:42<01:49, 18.17s/it]"
          ]
        },
        {
          "output_type": "stream",
          "name": "stdout",
          "text": [
            "Epoch 8, Loss: 107.28397750651041\n"
          ]
        },
        {
          "output_type": "stream",
          "name": "stderr",
          "text": [
            "\r 67%|██████▋   | 10/15 [03:00<01:30, 18.09s/it]"
          ]
        },
        {
          "output_type": "stream",
          "name": "stdout",
          "text": [
            "Epoch 9, Loss: 106.74060416666667\n"
          ]
        },
        {
          "output_type": "stream",
          "name": "stderr",
          "text": [
            "\r 73%|███████▎  | 11/15 [03:19<01:13, 18.38s/it]"
          ]
        },
        {
          "output_type": "stream",
          "name": "stdout",
          "text": [
            "Epoch 10, Loss: 106.32265548502605\n"
          ]
        },
        {
          "output_type": "stream",
          "name": "stderr",
          "text": [
            "\r 80%|████████  | 12/15 [03:36<00:54, 18.21s/it]"
          ]
        },
        {
          "output_type": "stream",
          "name": "stdout",
          "text": [
            "Epoch 11, Loss: 105.98094793294271\n"
          ]
        },
        {
          "output_type": "stream",
          "name": "stderr",
          "text": [
            "\r 87%|████████▋ | 13/15 [03:54<00:36, 18.08s/it]"
          ]
        },
        {
          "output_type": "stream",
          "name": "stdout",
          "text": [
            "Epoch 12, Loss: 105.65031549479167\n"
          ]
        },
        {
          "output_type": "stream",
          "name": "stderr",
          "text": [
            "\r 93%|█████████▎| 14/15 [04:13<00:18, 18.40s/it]"
          ]
        },
        {
          "output_type": "stream",
          "name": "stdout",
          "text": [
            "Epoch 13, Loss: 105.41397119140625\n"
          ]
        },
        {
          "output_type": "stream",
          "name": "stderr",
          "text": [
            "100%|██████████| 15/15 [04:31<00:00, 18.11s/it]"
          ]
        },
        {
          "output_type": "stream",
          "name": "stdout",
          "text": [
            "Epoch 14, Loss: 105.18940403645833\n"
          ]
        },
        {
          "output_type": "stream",
          "name": "stderr",
          "text": [
            "\n"
          ]
        }
      ]
    },
    {
      "cell_type": "code",
      "source": [
        "for network,name in zip([vae_10,vae_100],['VAE_10','VAE_100']):\n",
        "  generate_mnist(network,f'{name}.png')"
      ],
      "metadata": {
        "colab": {
          "base_uri": "https://localhost:8080/",
          "height": 1000
        },
        "id": "ycC2B905FNMT",
        "outputId": "fcb1339f-b49a-4abb-9073-40f26c658961"
      },
      "execution_count": 47,
      "outputs": [
        {
          "output_type": "display_data",
          "data": {
            "text/plain": [
              "<Figure size 800x800 with 25 Axes>"
            ],
            "image/png": "[encoded data removed]"
          },
          "metadata": {}
        },
        {
          "output_type": "display_data",
          "data": {
            "text/plain": [
              "<Figure size 800x800 with 25 Axes>"
            ],
            "image/png": "[encoded data removed]"
          },
          "metadata": {}
        }
      ]
    },
    {
      "cell_type": "markdown",
      "source": [
        "On remarque encore une fois que les données générées sont en majorité invraisemblables pour un humain. Notons toutefois que les chiffres 9, 7 et 1 sont reconnaissables par comparaison avec les autres."
      ],
      "metadata": {
        "id": "2nQXh7AjMpUR"
      }
    },
    {
      "cell_type": "markdown",
      "source": [],
      "metadata": {
        "id": "kGRLSIzZQZWG"
      }
    },
    {
      "cell_type": "code",
      "source": [],
      "metadata": {
        "id": "h6ce6o8wQY1W"
      },
      "execution_count": null,
      "outputs": []
    },
    {
      "cell_type": "markdown",
      "source": [],
      "metadata": {
        "id": "e043DhESREIp"
      }
    },
    {
      "cell_type": "markdown",
      "source": [
        "### Changer L'architecture du VAE"
      ],
      "metadata": {
        "id": "uzhFpZWJRMs5"
      }
    },
    {
      "cell_type": "markdown",
      "source": [
        "### Paramétrer la fonction loss pour pondérer les deux termes"
      ],
      "metadata": {
        "id": "hIrg7w_yRSoJ"
      }
    },
    {
      "cell_type": "markdown",
      "source": [
        "Nous allons créer une fonction de loss qui puisse apprendre à paramétrer la pondération des deux termes"
      ],
      "metadata": {
        "id": "4CdUQf3QT8Hl"
      }
    },
    {
      "cell_type": "code",
      "source": [
        "class CustomLoss(nn.Module):\n",
        "    def __init__(self):\n",
        "        super(CustomLoss, self).__init__()\n",
        "        self.alpha = nn.Parameter(torch.tensor(1.0))\n",
        "        self.beta = nn.Parameter(torch.tensor(1.0))\n",
        "\n",
        "    def forward(self, recon_x, x, mu, logvar):\n",
        "        BCE = nn.functional.binary_cross_entropy(recon_x, x.view(-1, 784), reduction='sum')\n",
        "        KLD = -0.5 * torch.sum(1 + logvar - mu.pow(2) - logvar.exp())\n",
        "        return self.alpha * BCE + self.beta * KLD\n"
      ],
      "metadata": {
        "id": "bk4rzof1Rg0A"
      },
      "execution_count": null,
      "outputs": []
    }
  ]
}